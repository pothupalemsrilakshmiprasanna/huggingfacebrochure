{
 "cells": [
  {
   "cell_type": "code",
   "execution_count": null,
   "id": "5d02b3cb",
   "metadata": {},
   "outputs": [],
   "source": []
  },
  {
   "cell_type": "code",
   "execution_count": null,
   "id": "99ee2561",
   "metadata": {},
   "outputs": [],
   "source": [
    "import markdown2\n",
    "import pdfkit\n",
    "import os \n",
    "def export_to_pdf(markdown_file=\"brochure.md\", pdf_file=\"brochure.pdf\", wkhtmltopdf_path=None):\n",
    "    # Check if markdown file exists\n",
    "    if not os.path.exists(markdown_file):\n",
    "        print(f\"Error: Markdown file '{markdown_file}' not found.\")\n",
    "        return False\n",
    "    \n",
    "    try:\n",
    "        # Read the markdown file\n",
    "        with open(markdown_file, \"r\", encoding=\"utf-8\") as md_file:\n",
    "            markdown_content = md_file.read()\n",
    "        \n",
    "        # Convert markdown to HTML\n",
    "        html = markdown2.markdown(markdown_content)\n",
    "        \n",
    "        # Configure pdfkit with wkhtmltopdf path if provided\n",
    "        if wkhtmltopdf_path:\n",
    "            config = pdfkit.configuration(wkhtmltopdf=wkhtmltopdf_path)\n",
    "            pdfkit.from_string(html, pdf_file, configuration=config)\n",
    "        else:\n",
    "            # Try to use default wkhtmltopdf installation\n",
    "            pdfkit.from_string(html, pdf_file)\n",
    "        \n",
    "        # Verify the PDF was created\n",
    "        if os.path.exists(pdf_file):\n",
    "            print(f\"PDF successfully created: {pdf_file}\")\n",
    "            return True\n",
    "        else:\n",
    "            print(f\"Error: PDF file '{pdf_file}' was not created.\")\n",
    "            return False\n",
    "            \n",
    "    except Exception as e:\n",
    "        print(f\"Error during PDF conversion: {str(e)}\")\n",
    "        return False"
   ]
  }
 ],
 "metadata": {
  "language_info": {
   "name": "python"
  }
 },
 "nbformat": 4,
 "nbformat_minor": 5
}
